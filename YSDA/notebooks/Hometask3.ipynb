{
 "metadata": {
  "name": "",
  "signature": "sha256:e21dd1268d992ee2f752a0f0fbd6570fd0cc3d53e84ac3b0782c7c7b7593a0c1"
 },
 "nbformat": 3,
 "nbformat_minor": 0,
 "worksheets": [
  {
   "cells": [
    {
     "cell_type": "markdown",
     "metadata": {},
     "source": [
      "# Third homework\n",
      "\n",
      "## Practical assignment. Predicting the number of comments to blogpost"
     ]
    },
    {
     "cell_type": "code",
     "collapsed": false,
     "input": [
      "import pandas\n",
      "from sklearn.cross_validation import train_test_split"
     ],
     "language": "python",
     "metadata": {},
     "outputs": [],
     "prompt_number": 1
    },
    {
     "cell_type": "markdown",
     "metadata": {},
     "source": [
      "## Before proceeding, you need to download dataset from \n",
      "http://archive.ics.uci.edu/ml/datasets/BlogFeedback\n",
      "and read the description!\n",
      "\n",
      "__reading the data__"
     ]
    },
    {
     "cell_type": "code",
     "collapsed": false,
     "input": [
      "blog_data = pandas.read_csv('blogData_train.csv', header=None)"
     ],
     "language": "python",
     "metadata": {},
     "outputs": []
    },
    {
     "cell_type": "code",
     "collapsed": false,
     "input": [
      "y = blog_data.ix[:, 280] * 1.\n",
      "X = blog_data.drop([280], axis=1)"
     ],
     "language": "python",
     "metadata": {},
     "outputs": [],
     "prompt_number": 3
    },
    {
     "cell_type": "code",
     "collapsed": false,
     "input": [
      "X_train, X_test, y_train, y_test = train_test_split(X, y, train_size=0.4, random_state=42)"
     ],
     "language": "python",
     "metadata": {},
     "outputs": [],
     "prompt_number": 4
    },
    {
     "cell_type": "markdown",
     "metadata": {},
     "source": [
      "## Training different regressor"
     ]
    },
    {
     "cell_type": "code",
     "collapsed": false,
     "input": [
      "from sklearn.linear_model import LinearRegression, ElasticNet\n",
      "from sklearn.preprocessing import StandardScaler\n",
      "from sklearn.decomposition import PCA\n",
      "# we will use mean squared error, less is better\n",
      "from sklearn.metrics import mean_squared_error"
     ],
     "language": "python",
     "metadata": {},
     "outputs": [],
     "prompt_number": 5
    },
    {
     "cell_type": "markdown",
     "metadata": {},
     "source": [
      "# Constant prediction\n",
      "What if we use constant predictions? That's simplest prediction rule"
     ]
    },
    {
     "cell_type": "code",
     "collapsed": false,
     "input": [
      "const_pred = numpy.zeros(len(y_test)) + y_train.mean()\n",
      "print mean_squared_error(y_test, const_pred)"
     ],
     "language": "python",
     "metadata": {},
     "outputs": [
      {
       "output_type": "stream",
       "stream": "stdout",
       "text": [
        "1397.22845344\n"
       ]
      }
     ],
     "prompt_number": 6
    },
    {
     "cell_type": "markdown",
     "metadata": {},
     "source": [
      "# Let's start from linear model\n",
      "\n",
      "LinearRegression doesn't have any regularization, while ElasticNet has (as it follows from name).\n",
      "\n",
      "Play with regularization, find out how it influences the performance"
     ]
    },
    {
     "cell_type": "code",
     "collapsed": false,
     "input": [
      "sgd = LinearRegression().fit(X_train, y_train)\n",
      "\n",
      "pred = sgd.predict(X_test)\n",
      "# print mean_squared_error(y_test, pred)"
     ],
     "language": "python",
     "metadata": {},
     "outputs": [],
     "prompt_number": 7
    },
    {
     "cell_type": "code",
     "collapsed": false,
     "input": [
      "sgd = ElasticNet().fit(X_train, y_train)\n",
      "\n",
      "pred = sgd.predict(X_test)\n",
      "# print mean_squared_error(y_test, pred)"
     ],
     "language": "python",
     "metadata": {},
     "outputs": [
      {
       "output_type": "stream",
       "stream": "stderr",
       "text": [
        "/usr/local/lib/python2.7/dist-packages/sklearn/linear_model/coordinate_descent.py:490: ConvergenceWarning: Objective did not converge. You might want to increase the number of iterations\n",
        "  ConvergenceWarning)\n"
       ]
      }
     ],
     "prompt_number": 8
    },
    {
     "cell_type": "markdown",
     "metadata": {},
     "source": [
      "# You're welcome to try (and tune!) ensembles over trees\n",
      "try to obtain mse < 650. Does setting max_depth influences speed and quality of RandomForest?"
     ]
    },
    {
     "cell_type": "code",
     "collapsed": false,
     "input": [
      "from sklearn.ensemble import RandomForestRegressor, GradientBoostingRegressor"
     ],
     "language": "python",
     "metadata": {},
     "outputs": [],
     "prompt_number": 9
    },
    {
     "cell_type": "code",
     "collapsed": false,
     "input": [
      "# this way tou can plot learning curve for gradient boosting \n",
      "curve = []\n",
      "for prediction in GradientBoostingRegressor(n_estimators=10).fit(X_train, y_train).staged_predict(X_test):\n",
      "    curve.append(mean_squared_error(y_test, prediction))\n",
      "plot(curve)"
     ],
     "language": "python",
     "metadata": {},
     "outputs": [
      {
       "metadata": {},
       "output_type": "pyout",
       "prompt_number": 10,
       "text": [
        "[<matplotlib.lines.Line2D at 0x7fbf3c43e250>]"
       ]
      },
      {
       "metadata": {},
       "output_type": "display_data",
       "png": "[encoded data removed]",
       "text": [
        "<matplotlib.figure.Figure at 0x7fbf3e9fdad0>"
       ]
      }
     ],
     "prompt_number": 10
    },
    {
     "cell_type": "markdown",
     "metadata": {},
     "source": [
      "(__consider this as advertisement, not instruction__)\n",
      "\n",
      "Bagging over gradient boosting? <br />\n",
      "AdaBoost over RandomForest or ExtraTrees? <br />\n",
      "In sklearn that's very simple: "
     ]
    },
    {
     "cell_type": "code",
     "collapsed": false,
     "input": [
      "from sklearn.ensemble import AdaBoostRegressor\n",
      "\n",
      "classifier = AdaBoostRegressor(base_estimator=RandomForestRegressor(max_depth=4), n_estimators=3)"
     ],
     "language": "python",
     "metadata": {},
     "outputs": [],
     "prompt_number": 11
    },
    {
     "cell_type": "markdown",
     "metadata": {},
     "source": [
      "## this way we can show feature importances (build them for some good model)\n",
      "Coindices with your expectations?"
     ]
    },
    {
     "cell_type": "code",
     "collapsed": false,
     "input": [
      "%%time\n",
      "# we measured the time with %%time\n",
      "plot(RandomForestRegressor().fit(X_train, y_train).feature_importances_)"
     ],
     "language": "python",
     "metadata": {},
     "outputs": [
      {
       "output_type": "stream",
       "stream": "stdout",
       "text": [
        "CPU times: user 36.5 s, sys: 0 ns, total: 36.5 s\n",
        "Wall time: 36.4 s\n"
       ]
      },
      {
       "metadata": {},
       "output_type": "pyout",
       "prompt_number": 12,
       "text": [
        "[<matplotlib.lines.Line2D at 0x7fbf0fc77910>]"
       ]
      },
      {
       "metadata": {},
       "output_type": "display_data",
       "png": "[encoded data removed]",
       "text": [
        "<matplotlib.figure.Figure at 0x7fbf3c547990>"
       ]
      }
     ],
     "prompt_number": 12
    },
    {
     "cell_type": "markdown",
     "metadata": {},
     "source": [
      "## Use scatter plot to visualize correlation between target and output of your classifier\n",
      "which events give largest contribution to mse?"
     ]
    },
    {
     "cell_type": "code",
     "collapsed": false,
     "input": [
      "scatter(y_test, RandomForestRegressor(max_depth=7, n_estimators=10).fit(X_train, y_train).predict(X_test))"
     ],
     "language": "python",
     "metadata": {},
     "outputs": [
      {
       "metadata": {},
       "output_type": "pyout",
       "prompt_number": 13,
       "text": [
        "<matplotlib.collections.PathCollection at 0x7fbf0fbf6810>"
       ]
      },
      {
       "metadata": {},
       "output_type": "display_data",
       "png": "[encoded data removed]",
       "text": [
        "<matplotlib.figure.Figure at 0x7fbf0fcd2fd0>"
       ]
      }
     ],
     "prompt_number": 13
    },
    {
     "cell_type": "markdown",
     "metadata": {},
     "source": [
      "## Do we really need features that correspond to usage of words? \n",
      "these are 62-261 columns, let's delete them"
     ]
    },
    {
     "cell_type": "code",
     "collapsed": false,
     "input": [
      "columns = range(62) + range(262, 280)\n",
      "X_train2 = X_train[:, columns]\n",
      "X_test2  = X_train[:, columns]"
     ],
     "language": "python",
     "metadata": {},
     "outputs": [],
     "prompt_number": 14
    },
    {
     "cell_type": "markdown",
     "metadata": {},
     "source": [
      "## What if we apply PCA transformation to bag-of-words features?\n",
      "Any ideas about meaning of this features we get after transfomation?"
     ]
    },
    {
     "cell_type": "code",
     "collapsed": false,
     "input": [
      "X_train3 = X_train[:, 62:262]\n",
      "X_test3  = X_test [:, 62:262]"
     ],
     "language": "python",
     "metadata": {},
     "outputs": [],
     "prompt_number": 15
    },
    {
     "cell_type": "code",
     "collapsed": false,
     "input": [
      "from sklearn.decomposition import PCA"
     ],
     "language": "python",
     "metadata": {},
     "outputs": [],
     "prompt_number": 16
    },
    {
     "cell_type": "code",
     "collapsed": false,
     "input": [
      "pca = PCA(n_components=10).fit(X_train3)\n",
      "X_train_pca =  pca.transform(X_train3)\n",
      "X_test_pca =  pca.transform(X_test3)"
     ],
     "language": "python",
     "metadata": {},
     "outputs": [],
     "prompt_number": 17
    },
    {
     "cell_type": "markdown",
     "metadata": {},
     "source": [
      "### adding PCA-features as new columns"
     ]
    },
    {
     "cell_type": "code",
     "collapsed": false,
     "input": [
      "X_train4 = numpy.concatenate([X_train, X_train_pca], axis=1)\n",
      "X_test4  = numpy.concatenate([X_test,  X_test_pca ], axis=1)"
     ],
     "language": "python",
     "metadata": {},
     "outputs": [],
     "prompt_number": 19
    },
    {
     "cell_type": "code",
     "collapsed": false,
     "input": [],
     "language": "python",
     "metadata": {},
     "outputs": []
    },
    {
     "cell_type": "markdown",
     "metadata": {},
     "source": [
      "# Links\n",
      "\n",
      "1. <a href='http://nbviewer.ipython.org/urls/s3.amazonaws.com/datarobotblog/notebooks/gbm-tutorial.ipynb'> \n",
      "Gradient boosting regression trees</a>\n",
      "2. <a href='http://nbviewer.ipython.org/url/jakevdp.github.com/downloads/notebooks/TreeBench.ipynb'>\n",
      "An example presentation of research with ipython</a>\n",
      "3. <a href='http://rootpy.github.io/root_numpy/'>root-numpy</a> - an easy way to use IPython with ROOT format.\n",
      "4. <a href='https://www.kaggle.com/c/higgs-boson/forums/t/10344/winning-methodology-sharing'>Topic</a> on kaggle forum about Higgs boson challenge.\n",
      "4. <a href='http://labs.sogeti.com/wp-content/uploads/2014/03/comics.png'>You call this progress?</a>\n",
      " "
     ]
    }
   ],
   "metadata": {}
  }
 ]
}